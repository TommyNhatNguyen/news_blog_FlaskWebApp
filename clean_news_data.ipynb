{
 "cells": [
  {
   "cell_type": "code",
   "execution_count": 20,
   "metadata": {},
   "outputs": [],
   "source": [
    "import pandas as pd \n",
    "import matplotlib.pyplot as plt"
   ]
  },
  {
   "cell_type": "code",
   "execution_count": 21,
   "metadata": {},
   "outputs": [],
   "source": [
    "df = pd.read_csv(\"data/vnexpress.csv\")"
   ]
  },
  {
   "cell_type": "code",
   "execution_count": 22,
   "metadata": {},
   "outputs": [
    {
     "data": {
      "text/plain": [
       "('title', 'content', 'link', 'author', 'date', 'image')"
      ]
     },
     "execution_count": 22,
     "metadata": {},
     "output_type": "execute_result"
    }
   ],
   "source": [
    "tuple(df.columns)"
   ]
  },
  {
   "cell_type": "code",
   "execution_count": 23,
   "metadata": {},
   "outputs": [
    {
     "name": "stdout",
     "output_type": "stream",
     "text": [
      "Before (235, 6)\n",
      "After (226, 6)\n"
     ]
    },
    {
     "data": {
      "text/html": [
       "<div>\n",
       "<style scoped>\n",
       "    .dataframe tbody tr th:only-of-type {\n",
       "        vertical-align: middle;\n",
       "    }\n",
       "\n",
       "    .dataframe tbody tr th {\n",
       "        vertical-align: top;\n",
       "    }\n",
       "\n",
       "    .dataframe thead th {\n",
       "        text-align: right;\n",
       "    }\n",
       "</style>\n",
       "<table border=\"1\" class=\"dataframe\">\n",
       "  <thead>\n",
       "    <tr style=\"text-align: right;\">\n",
       "      <th></th>\n",
       "      <th>title</th>\n",
       "      <th>content</th>\n",
       "      <th>link</th>\n",
       "      <th>author</th>\n",
       "      <th>date</th>\n",
       "      <th>image</th>\n",
       "    </tr>\n",
       "  </thead>\n",
       "  <tbody>\n",
       "    <tr>\n",
       "      <th>0</th>\n",
       "      <td>NaN</td>\n",
       "      <td>Thị trường FMCG (tức hàng tiêu dùng nhanh) là ...</td>\n",
       "      <td>https://ngoisao.vnexpress.net/giai-phap-quan-l...</td>\n",
       "      <td>Hoài Phương</td>\n",
       "      <td>Thứ sáu, 26/5/2023, 09:00 (GMT+7)</td>\n",
       "      <td>https://i1-kinhdoanh.vnecdn.net/2023/05/25/dv2...</td>\n",
       "    </tr>\n",
       "    <tr>\n",
       "      <th>1</th>\n",
       "      <td>Theo các đại biểu, giảm thuế VAT 2% nên áp dụn...</td>\n",
       "      <td>Chính phủ đang trình Quốc hội giảm 2% thuế VAT...</td>\n",
       "      <td>https://vnexpress.net/dai-bieu-quoc-hoi-nen-gi...</td>\n",
       "      <td>NaN</td>\n",
       "      <td>Thứ bảy, 27/5/2023, 13:22 (GMT+7)</td>\n",
       "      <td>NaN</td>\n",
       "    </tr>\n",
       "    <tr>\n",
       "      <th>2</th>\n",
       "      <td>Fitch cho rằng việc Quốc hội Mỹ bế tắc trong đ...</td>\n",
       "      <td>Hãng đánh giá tín nhiệm Fitch hôm 24/5 thông b...</td>\n",
       "      <td>https://vnexpress.net/fitch-canh-bao-ha-xep-ha...</td>\n",
       "      <td>Hà Thu</td>\n",
       "      <td>Thứ năm, 25/5/2023, 10:53 (GMT+7)</td>\n",
       "      <td>https://i1-kinhdoanh.vnecdn.net/2023/05/25/wal...</td>\n",
       "    </tr>\n",
       "    <tr>\n",
       "      <th>3</th>\n",
       "      <td>Đại biểu Lê Thanh Vân cho rằng nhiều doanh ngh...</td>\n",
       "      <td>Thảo luận tổ về tình hình kinh tế - xã hội sán...</td>\n",
       "      <td>https://vnexpress.net/doanh-nghiep-dinh-bay-vi...</td>\n",
       "      <td>Sơn Hà - Hoài Thu</td>\n",
       "      <td>Thứ năm, 25/5/2023, 11:35 (GMT+7)</td>\n",
       "      <td>https://i1-vnexpress.vnecdn.net/2023/05/25/170...</td>\n",
       "    </tr>\n",
       "    <tr>\n",
       "      <th>4</th>\n",
       "      <td>Các đại biểu Quốc hội yêu cầu làm rõ vì sao Vi...</td>\n",
       "      <td>Sáng 25/5, Quốc hội thảo luận tổ, cho ý kiến v...</td>\n",
       "      <td>https://vnexpress.net/dai-bieu-dien-tai-tao-ch...</td>\n",
       "      <td>NaN</td>\n",
       "      <td>Thứ năm, 25/5/2023, 13:53 (GMT+7)</td>\n",
       "      <td>https://i1-kinhdoanh.vnecdn.net/2023/05/25/din...</td>\n",
       "    </tr>\n",
       "  </tbody>\n",
       "</table>\n",
       "</div>"
      ],
      "text/plain": [
       "                                               title   \n",
       "0                                                NaN  \\\n",
       "1  Theo các đại biểu, giảm thuế VAT 2% nên áp dụn...   \n",
       "2  Fitch cho rằng việc Quốc hội Mỹ bế tắc trong đ...   \n",
       "3  Đại biểu Lê Thanh Vân cho rằng nhiều doanh ngh...   \n",
       "4  Các đại biểu Quốc hội yêu cầu làm rõ vì sao Vi...   \n",
       "\n",
       "                                             content   \n",
       "0  Thị trường FMCG (tức hàng tiêu dùng nhanh) là ...  \\\n",
       "1  Chính phủ đang trình Quốc hội giảm 2% thuế VAT...   \n",
       "2  Hãng đánh giá tín nhiệm Fitch hôm 24/5 thông b...   \n",
       "3  Thảo luận tổ về tình hình kinh tế - xã hội sán...   \n",
       "4  Sáng 25/5, Quốc hội thảo luận tổ, cho ý kiến v...   \n",
       "\n",
       "                                                link             author   \n",
       "0  https://ngoisao.vnexpress.net/giai-phap-quan-l...        Hoài Phương  \\\n",
       "1  https://vnexpress.net/dai-bieu-quoc-hoi-nen-gi...                NaN   \n",
       "2  https://vnexpress.net/fitch-canh-bao-ha-xep-ha...             Hà Thu   \n",
       "3  https://vnexpress.net/doanh-nghiep-dinh-bay-vi...  Sơn Hà - Hoài Thu   \n",
       "4  https://vnexpress.net/dai-bieu-dien-tai-tao-ch...                NaN   \n",
       "\n",
       "                                date   \n",
       "0  Thứ sáu, 26/5/2023, 09:00 (GMT+7)  \\\n",
       "1  Thứ bảy, 27/5/2023, 13:22 (GMT+7)   \n",
       "2  Thứ năm, 25/5/2023, 10:53 (GMT+7)   \n",
       "3  Thứ năm, 25/5/2023, 11:35 (GMT+7)   \n",
       "4  Thứ năm, 25/5/2023, 13:53 (GMT+7)   \n",
       "\n",
       "                                               image  \n",
       "0  https://i1-kinhdoanh.vnecdn.net/2023/05/25/dv2...  \n",
       "1                                                NaN  \n",
       "2  https://i1-kinhdoanh.vnecdn.net/2023/05/25/wal...  \n",
       "3  https://i1-vnexpress.vnecdn.net/2023/05/25/170...  \n",
       "4  https://i1-kinhdoanh.vnecdn.net/2023/05/25/din...  "
      ]
     },
     "execution_count": 23,
     "metadata": {},
     "output_type": "execute_result"
    }
   ],
   "source": [
    "print(\"Before {}\".format(df.shape))\n",
    "df = df[(df['title'] != 'title')].drop_duplicates()\n",
    "print(\"After {}\".format(df.shape))\n",
    "df.head()"
   ]
  },
  {
   "cell_type": "code",
   "execution_count": 24,
   "metadata": {},
   "outputs": [
    {
     "name": "stdout",
     "output_type": "stream",
     "text": [
      "Before (226, 6)\n",
      "After (225, 6)\n"
     ]
    },
    {
     "data": {
      "text/html": [
       "<div>\n",
       "<style scoped>\n",
       "    .dataframe tbody tr th:only-of-type {\n",
       "        vertical-align: middle;\n",
       "    }\n",
       "\n",
       "    .dataframe tbody tr th {\n",
       "        vertical-align: top;\n",
       "    }\n",
       "\n",
       "    .dataframe thead th {\n",
       "        text-align: right;\n",
       "    }\n",
       "</style>\n",
       "<table border=\"1\" class=\"dataframe\">\n",
       "  <thead>\n",
       "    <tr style=\"text-align: right;\">\n",
       "      <th></th>\n",
       "      <th>title</th>\n",
       "      <th>content</th>\n",
       "      <th>link</th>\n",
       "      <th>author</th>\n",
       "      <th>date</th>\n",
       "      <th>image</th>\n",
       "    </tr>\n",
       "  </thead>\n",
       "  <tbody>\n",
       "    <tr>\n",
       "      <th>1</th>\n",
       "      <td>Theo các đại biểu, giảm thuế VAT 2% nên áp dụn...</td>\n",
       "      <td>Chính phủ đang trình Quốc hội giảm 2% thuế VAT...</td>\n",
       "      <td>https://vnexpress.net/dai-bieu-quoc-hoi-nen-gi...</td>\n",
       "      <td>NaN</td>\n",
       "      <td>Thứ bảy, 27/5/2023, 13:22 (GMT+7)</td>\n",
       "      <td>NaN</td>\n",
       "    </tr>\n",
       "    <tr>\n",
       "      <th>2</th>\n",
       "      <td>Fitch cho rằng việc Quốc hội Mỹ bế tắc trong đ...</td>\n",
       "      <td>Hãng đánh giá tín nhiệm Fitch hôm 24/5 thông b...</td>\n",
       "      <td>https://vnexpress.net/fitch-canh-bao-ha-xep-ha...</td>\n",
       "      <td>Hà Thu</td>\n",
       "      <td>Thứ năm, 25/5/2023, 10:53 (GMT+7)</td>\n",
       "      <td>https://i1-kinhdoanh.vnecdn.net/2023/05/25/wal...</td>\n",
       "    </tr>\n",
       "    <tr>\n",
       "      <th>3</th>\n",
       "      <td>Đại biểu Lê Thanh Vân cho rằng nhiều doanh ngh...</td>\n",
       "      <td>Thảo luận tổ về tình hình kinh tế - xã hội sán...</td>\n",
       "      <td>https://vnexpress.net/doanh-nghiep-dinh-bay-vi...</td>\n",
       "      <td>Sơn Hà - Hoài Thu</td>\n",
       "      <td>Thứ năm, 25/5/2023, 11:35 (GMT+7)</td>\n",
       "      <td>https://i1-vnexpress.vnecdn.net/2023/05/25/170...</td>\n",
       "    </tr>\n",
       "    <tr>\n",
       "      <th>4</th>\n",
       "      <td>Các đại biểu Quốc hội yêu cầu làm rõ vì sao Vi...</td>\n",
       "      <td>Sáng 25/5, Quốc hội thảo luận tổ, cho ý kiến v...</td>\n",
       "      <td>https://vnexpress.net/dai-bieu-dien-tai-tao-ch...</td>\n",
       "      <td>NaN</td>\n",
       "      <td>Thứ năm, 25/5/2023, 13:53 (GMT+7)</td>\n",
       "      <td>https://i1-kinhdoanh.vnecdn.net/2023/05/25/din...</td>\n",
       "    </tr>\n",
       "    <tr>\n",
       "      <th>5</th>\n",
       "      <td>Biên bản cuộc họp đầu tháng 5 cho thấy quan ch...</td>\n",
       "      <td>\"Nhiều quan chức đề cập đến sự cần thiết của v...</td>\n",
       "      <td>https://vnexpress.net/fed-san-sang-can-thiep-n...</td>\n",
       "      <td>Hà Thu</td>\n",
       "      <td>Thứ năm, 25/5/2023, 14:17 (GMT+7)</td>\n",
       "      <td>https://i1-kinhdoanh.vnecdn.net/2023/05/25/fed...</td>\n",
       "    </tr>\n",
       "  </tbody>\n",
       "</table>\n",
       "</div>"
      ],
      "text/plain": [
       "                                               title   \n",
       "1  Theo các đại biểu, giảm thuế VAT 2% nên áp dụn...  \\\n",
       "2  Fitch cho rằng việc Quốc hội Mỹ bế tắc trong đ...   \n",
       "3  Đại biểu Lê Thanh Vân cho rằng nhiều doanh ngh...   \n",
       "4  Các đại biểu Quốc hội yêu cầu làm rõ vì sao Vi...   \n",
       "5  Biên bản cuộc họp đầu tháng 5 cho thấy quan ch...   \n",
       "\n",
       "                                             content   \n",
       "1  Chính phủ đang trình Quốc hội giảm 2% thuế VAT...  \\\n",
       "2  Hãng đánh giá tín nhiệm Fitch hôm 24/5 thông b...   \n",
       "3  Thảo luận tổ về tình hình kinh tế - xã hội sán...   \n",
       "4  Sáng 25/5, Quốc hội thảo luận tổ, cho ý kiến v...   \n",
       "5  \"Nhiều quan chức đề cập đến sự cần thiết của v...   \n",
       "\n",
       "                                                link             author   \n",
       "1  https://vnexpress.net/dai-bieu-quoc-hoi-nen-gi...                NaN  \\\n",
       "2  https://vnexpress.net/fitch-canh-bao-ha-xep-ha...             Hà Thu   \n",
       "3  https://vnexpress.net/doanh-nghiep-dinh-bay-vi...  Sơn Hà - Hoài Thu   \n",
       "4  https://vnexpress.net/dai-bieu-dien-tai-tao-ch...                NaN   \n",
       "5  https://vnexpress.net/fed-san-sang-can-thiep-n...             Hà Thu   \n",
       "\n",
       "                                date   \n",
       "1  Thứ bảy, 27/5/2023, 13:22 (GMT+7)  \\\n",
       "2  Thứ năm, 25/5/2023, 10:53 (GMT+7)   \n",
       "3  Thứ năm, 25/5/2023, 11:35 (GMT+7)   \n",
       "4  Thứ năm, 25/5/2023, 13:53 (GMT+7)   \n",
       "5  Thứ năm, 25/5/2023, 14:17 (GMT+7)   \n",
       "\n",
       "                                               image  \n",
       "1                                                NaN  \n",
       "2  https://i1-kinhdoanh.vnecdn.net/2023/05/25/wal...  \n",
       "3  https://i1-vnexpress.vnecdn.net/2023/05/25/170...  \n",
       "4  https://i1-kinhdoanh.vnecdn.net/2023/05/25/din...  \n",
       "5  https://i1-kinhdoanh.vnecdn.net/2023/05/25/fed...  "
      ]
     },
     "execution_count": 24,
     "metadata": {},
     "output_type": "execute_result"
    }
   ],
   "source": [
    "print(\"Before {}\".format(df.shape))\n",
    "df = df.dropna(subset=('title', 'content'))\n",
    "print(\"After {}\".format(df.shape))\n",
    "df.head()"
   ]
  },
  {
   "cell_type": "code",
   "execution_count": 25,
   "metadata": {},
   "outputs": [],
   "source": [
    "df.to_csv(\"data/vnexpress_clean.csv\")"
   ]
  },
  {
   "cell_type": "code",
   "execution_count": null,
   "metadata": {},
   "outputs": [],
   "source": [
    "df.to_csv(\"data/vnexpress_clean.csv\", encoding='utf-16', index=False)"
   ]
  }
 ],
 "metadata": {
  "kernelspec": {
   "display_name": "venv",
   "language": "python",
   "name": "python3"
  },
  "language_info": {
   "codemirror_mode": {
    "name": "ipython",
    "version": 3
   },
   "file_extension": ".py",
   "mimetype": "text/x-python",
   "name": "python",
   "nbconvert_exporter": "python",
   "pygments_lexer": "ipython3",
   "version": "3.10.10"
  },
  "orig_nbformat": 4
 },
 "nbformat": 4,
 "nbformat_minor": 2
}
